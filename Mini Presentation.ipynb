{
 "cells": [
  {
   "cell_type": "code",
   "execution_count": 13,
   "id": "432a9b1f",
   "metadata": {},
   "outputs": [],
   "source": [
    "# import libraries\n",
    "import pandas as pd\n",
    "import numpy as np"
   ]
  },
  {
   "cell_type": "code",
   "execution_count": 14,
   "id": "1b3c58d0",
   "metadata": {},
   "outputs": [
    {
     "data": {
      "text/html": [
       "<div>\n",
       "<style scoped>\n",
       "    .dataframe tbody tr th:only-of-type {\n",
       "        vertical-align: middle;\n",
       "    }\n",
       "\n",
       "    .dataframe tbody tr th {\n",
       "        vertical-align: top;\n",
       "    }\n",
       "\n",
       "    .dataframe thead th {\n",
       "        text-align: right;\n",
       "    }\n",
       "</style>\n",
       "<table border=\"1\" class=\"dataframe\">\n",
       "  <thead>\n",
       "    <tr style=\"text-align: right;\">\n",
       "      <th></th>\n",
       "      <th>Player</th>\n",
       "      <th>height</th>\n",
       "      <th>weight</th>\n",
       "      <th>college</th>\n",
       "      <th>born</th>\n",
       "      <th>birth_city</th>\n",
       "      <th>birth_state</th>\n",
       "    </tr>\n",
       "  </thead>\n",
       "  <tbody>\n",
       "    <tr>\n",
       "      <th>0</th>\n",
       "      <td>Curly Armstrong</td>\n",
       "      <td>180.0</td>\n",
       "      <td>77.0</td>\n",
       "      <td>Indiana University</td>\n",
       "      <td>1918.0</td>\n",
       "      <td>NaN</td>\n",
       "      <td>NaN</td>\n",
       "    </tr>\n",
       "    <tr>\n",
       "      <th>1</th>\n",
       "      <td>Cliff Barker</td>\n",
       "      <td>188.0</td>\n",
       "      <td>83.0</td>\n",
       "      <td>University of Kentucky</td>\n",
       "      <td>1921.0</td>\n",
       "      <td>Yorktown</td>\n",
       "      <td>Indiana</td>\n",
       "    </tr>\n",
       "    <tr>\n",
       "      <th>2</th>\n",
       "      <td>Leo Barnhorst</td>\n",
       "      <td>193.0</td>\n",
       "      <td>86.0</td>\n",
       "      <td>University of Notre Dame</td>\n",
       "      <td>1924.0</td>\n",
       "      <td>NaN</td>\n",
       "      <td>NaN</td>\n",
       "    </tr>\n",
       "    <tr>\n",
       "      <th>3</th>\n",
       "      <td>Ed Bartels</td>\n",
       "      <td>196.0</td>\n",
       "      <td>88.0</td>\n",
       "      <td>North Carolina State University</td>\n",
       "      <td>1925.0</td>\n",
       "      <td>NaN</td>\n",
       "      <td>NaN</td>\n",
       "    </tr>\n",
       "    <tr>\n",
       "      <th>4</th>\n",
       "      <td>Ralph Beard</td>\n",
       "      <td>178.0</td>\n",
       "      <td>79.0</td>\n",
       "      <td>University of Kentucky</td>\n",
       "      <td>1927.0</td>\n",
       "      <td>Hardinsburg</td>\n",
       "      <td>Kentucky</td>\n",
       "    </tr>\n",
       "  </tbody>\n",
       "</table>\n",
       "</div>"
      ],
      "text/plain": [
       "            Player  height  weight                          college    born  \\\n",
       "0  Curly Armstrong   180.0    77.0               Indiana University  1918.0   \n",
       "1     Cliff Barker   188.0    83.0           University of Kentucky  1921.0   \n",
       "2    Leo Barnhorst   193.0    86.0         University of Notre Dame  1924.0   \n",
       "3       Ed Bartels   196.0    88.0  North Carolina State University  1925.0   \n",
       "4      Ralph Beard   178.0    79.0           University of Kentucky  1927.0   \n",
       "\n",
       "    birth_city birth_state  \n",
       "0          NaN         NaN  \n",
       "1     Yorktown     Indiana  \n",
       "2          NaN         NaN  \n",
       "3          NaN         NaN  \n",
       "4  Hardinsburg    Kentucky  "
      ]
     },
     "execution_count": 14,
     "metadata": {},
     "output_type": "execute_result"
    }
   ],
   "source": [
    "# import data\n",
    "url='./Players.csv'\n",
    "df_iris=pd.read_csv(url)\n",
    "df_iris.drop('Unnamed: 0',axis=1, inplace=True)\n",
    "df_iris.head() "
   ]
  },
  {
   "cell_type": "code",
   "execution_count": 20,
   "id": "29a711c2",
   "metadata": {},
   "outputs": [
    {
     "data": {
      "text/plain": [
       "Player           1\n",
       "height           1\n",
       "weight           1\n",
       "college        349\n",
       "born             1\n",
       "birth_city     470\n",
       "birth_state    483\n",
       "dtype: int64"
      ]
     },
     "execution_count": 20,
     "metadata": {},
     "output_type": "execute_result"
    }
   ],
   "source": [
    "df_iris.isna().sum()"
   ]
  },
  {
   "cell_type": "code",
   "execution_count": 3,
   "id": "829ed952",
   "metadata": {},
   "outputs": [
    {
     "name": "stdout",
     "output_type": "stream",
     "text": [
      "<class 'pandas.core.frame.DataFrame'>\n",
      "RangeIndex: 3922 entries, 0 to 3921\n",
      "Data columns (total 7 columns):\n",
      " #   Column       Non-Null Count  Dtype  \n",
      "---  ------       --------------  -----  \n",
      " 0   Player       3921 non-null   object \n",
      " 1   height       3921 non-null   float64\n",
      " 2   weight       3921 non-null   float64\n",
      " 3   college      3573 non-null   object \n",
      " 4   born         3921 non-null   float64\n",
      " 5   birth_city   3452 non-null   object \n",
      " 6   birth_state  3439 non-null   object \n",
      "dtypes: float64(3), object(4)\n",
      "memory usage: 214.6+ KB\n",
      "Total of duplicated value: 0\n",
      "Total of columns:  7\n",
      "Total of rows:  3189\n"
     ]
    }
   ],
   "source": [
    "##Cleaning data \n",
    "\n",
    "#1. data type, Null values\n",
    "df_iris.info() \n",
    "df_iris= df_iris.dropna()\n",
    "\n",
    "#2. duplicated data \n",
    "print(\"Total of duplicated value:\",df_iris.duplicated().sum()) \n",
    "\n",
    "#3. \n",
    "df_iris.describe() \n",
    "\n",
    "#4. Total of columns, rows\n",
    "print(\"Total of columns: \",df_iris.shape[1]) \n",
    "print(\"Total of rows: \",df_iris.shape[0]) "
   ]
  },
  {
   "cell_type": "code",
   "execution_count": 4,
   "id": "a54355ad",
   "metadata": {
    "scrolled": false
   },
   "outputs": [
    {
     "name": "stdout",
     "output_type": "stream",
     "text": [
      "All unique variables in Player\n",
      "Cliff Barker         1\n",
      "Brandon Williams     1\n",
      "Peter Aluma          1\n",
      "Toby Bailey          1\n",
      "LaMark Baker         1\n",
      "                    ..\n",
      "Gene Banks           1\n",
      "Rolando Blackman     1\n",
      "Ray Blume            1\n",
      "Alex Bradley         1\n",
      "Stephen Zimmerman    1\n",
      "Name: Player, Length: 3189, dtype: int64\n",
      "\n",
      "All unique variables in height\n",
      "201.0    335\n",
      "203.0    332\n",
      "206.0    326\n",
      "196.0    291\n",
      "198.0    278\n",
      "190.0    253\n",
      "193.0    252\n",
      "208.0    238\n",
      "188.0    208\n",
      "211.0    180\n",
      "185.0    143\n",
      "213.0    119\n",
      "183.0     95\n",
      "180.0     35\n",
      "216.0     31\n",
      "178.0     30\n",
      "218.0     16\n",
      "175.0      7\n",
      "224.0      4\n",
      "221.0      4\n",
      "170.0      3\n",
      "226.0      2\n",
      "173.0      2\n",
      "231.0      1\n",
      "168.0      1\n",
      "160.0      1\n",
      "229.0      1\n",
      "165.0      1\n",
      "Name: height, dtype: int64\n",
      "\n",
      "All unique variables in weight\n",
      "86.0     228\n",
      "95.0     227\n",
      "83.0     220\n",
      "99.0     216\n",
      "97.0     179\n",
      "        ... \n",
      "75.0       1\n",
      "139.0      1\n",
      "138.0      1\n",
      "126.0      1\n",
      "163.0      1\n",
      "Name: weight, Length: 71, dtype: int64\n",
      "\n",
      "All unique variables in college\n",
      "University of Kentucky                                      84\n",
      "University of California, Los Angeles                       84\n",
      "University of North Carolina                                65\n",
      "University of Kansas                                        58\n",
      "Duke University                                             54\n",
      "                                                            ..\n",
      "West Virginia Wesleyan College                               1\n",
      "Alabama State University                                     1\n",
      "Howard University                                            1\n",
      "James Madison University                                     1\n",
      "California Polytechnic State University, San Luis Obispo     1\n",
      "Name: college, Length: 392, dtype: int64\n",
      "\n",
      "All unique variables in born\n",
      "1970.0    78\n",
      "1955.0    74\n",
      "1964.0    72\n",
      "1969.0    71\n",
      "1967.0    69\n",
      "          ..\n",
      "1919.0     5\n",
      "1997.0     5\n",
      "1918.0     4\n",
      "1917.0     4\n",
      "1915.0     1\n",
      "Name: born, Length: 82, dtype: int64\n",
      "\n",
      "All unique variables in birth_city\n",
      "Chicago           112\n",
      "Los Angeles        86\n",
      "Philadelphia       82\n",
      "Brooklyn           75\n",
      "New York           71\n",
      "                 ... \n",
      "Eugene              1\n",
      "Valdosta            1\n",
      "Havre De Grace      1\n",
      "Ardmore             1\n",
      "Hendersonville      1\n",
      "Name: birth_city, Length: 1108, dtype: int64\n",
      "\n",
      "All unique variables in birth_state\n",
      "California      337\n",
      "New York        286\n",
      "Illinois        203\n",
      "Pennsylvania    162\n",
      "Ohio            136\n",
      "               ... \n",
      "South Africa      1\n",
      "Romania           1\n",
      "Sweden            1\n",
      "Montenegro        1\n",
      "Austria           1\n",
      "Name: birth_state, Length: 111, dtype: int64\n",
      "\n"
     ]
    }
   ],
   "source": [
    "for x in df_iris.columns :\n",
    "    print(\"All unique variables in\", x) \n",
    "    print(df_iris[x].value_counts()) \n",
    "    print(\"\")"
   ]
  },
  {
   "cell_type": "code",
   "execution_count": 5,
   "id": "8862bb6a",
   "metadata": {},
   "outputs": [
    {
     "data": {
      "text/html": [
       "<div>\n",
       "<style scoped>\n",
       "    .dataframe tbody tr th:only-of-type {\n",
       "        vertical-align: middle;\n",
       "    }\n",
       "\n",
       "    .dataframe tbody tr th {\n",
       "        vertical-align: top;\n",
       "    }\n",
       "\n",
       "    .dataframe thead th {\n",
       "        text-align: right;\n",
       "    }\n",
       "</style>\n",
       "<table border=\"1\" class=\"dataframe\">\n",
       "  <thead>\n",
       "    <tr style=\"text-align: right;\">\n",
       "      <th></th>\n",
       "      <th>birth_city</th>\n",
       "      <th>Player</th>\n",
       "    </tr>\n",
       "  </thead>\n",
       "  <tbody>\n",
       "    <tr>\n",
       "      <th>0</th>\n",
       "      <td>Chicago</td>\n",
       "      <td>112</td>\n",
       "    </tr>\n",
       "    <tr>\n",
       "      <th>1</th>\n",
       "      <td>Los Angeles</td>\n",
       "      <td>86</td>\n",
       "    </tr>\n",
       "    <tr>\n",
       "      <th>2</th>\n",
       "      <td>Philadelphia</td>\n",
       "      <td>82</td>\n",
       "    </tr>\n",
       "    <tr>\n",
       "      <th>3</th>\n",
       "      <td>Brooklyn</td>\n",
       "      <td>75</td>\n",
       "    </tr>\n",
       "    <tr>\n",
       "      <th>4</th>\n",
       "      <td>New York</td>\n",
       "      <td>71</td>\n",
       "    </tr>\n",
       "    <tr>\n",
       "      <th>5</th>\n",
       "      <td>Washington</td>\n",
       "      <td>62</td>\n",
       "    </tr>\n",
       "    <tr>\n",
       "      <th>6</th>\n",
       "      <td>Detroit</td>\n",
       "      <td>58</td>\n",
       "    </tr>\n",
       "    <tr>\n",
       "      <th>7</th>\n",
       "      <td>Baltimore</td>\n",
       "      <td>37</td>\n",
       "    </tr>\n",
       "    <tr>\n",
       "      <th>8</th>\n",
       "      <td>Atlanta</td>\n",
       "      <td>36</td>\n",
       "    </tr>\n",
       "    <tr>\n",
       "      <th>9</th>\n",
       "      <td>Dallas</td>\n",
       "      <td>33</td>\n",
       "    </tr>\n",
       "  </tbody>\n",
       "</table>\n",
       "</div>"
      ],
      "text/plain": [
       "     birth_city  Player\n",
       "0       Chicago     112\n",
       "1   Los Angeles      86\n",
       "2  Philadelphia      82\n",
       "3      Brooklyn      75\n",
       "4      New York      71\n",
       "5    Washington      62\n",
       "6       Detroit      58\n",
       "7     Baltimore      37\n",
       "8       Atlanta      36\n",
       "9        Dallas      33"
      ]
     },
     "execution_count": 5,
     "metadata": {},
     "output_type": "execute_result"
    }
   ],
   "source": [
    "#Determine top 10\n",
    "data=df_iris.groupby(['birth_city'])[['Player']].count().sort_values(by='Player', ascending = False)\n",
    "data=data.reset_index()\n",
    "data =data.head(10) \n",
    "data"
   ]
  },
  {
   "cell_type": "code",
   "execution_count": 6,
   "id": "d4a3bfaa",
   "metadata": {},
   "outputs": [
    {
     "data": {
      "image/png": "[encoded data removed]",
      "text/plain": [
       "<Figure size 640x480 with 1 Axes>"
      ]
     },
     "metadata": {},
     "output_type": "display_data"
    }
   ],
   "source": [
    "import seaborn as sns \n",
    "import matplotlib.pyplot as plt \n",
    "\n",
    "bar =sns.barplot(x = data['birth_city'], y = data['Player']) \n",
    "bar.set_title(\"Top 10 city with the most NBA's players\")\n",
    "bar.set_xlabel(\"Motherland\") \n",
    "bar.set_ylabel(\"Number of players\")\n",
    "ax = plt.gca()\n",
    "for label in ax.get_xticklabels(which = 'major'): \n",
    "    label.set(rotation=30)"
   ]
  },
  {
   "cell_type": "code",
   "execution_count": 8,
   "id": "c2565165",
   "metadata": {},
   "outputs": [
    {
     "data": {
      "text/html": [
       "<div>\n",
       "<style scoped>\n",
       "    .dataframe tbody tr th:only-of-type {\n",
       "        vertical-align: middle;\n",
       "    }\n",
       "\n",
       "    .dataframe tbody tr th {\n",
       "        vertical-align: top;\n",
       "    }\n",
       "\n",
       "    .dataframe thead th {\n",
       "        text-align: right;\n",
       "    }\n",
       "</style>\n",
       "<table border=\"1\" class=\"dataframe\">\n",
       "  <thead>\n",
       "    <tr style=\"text-align: right;\">\n",
       "      <th></th>\n",
       "      <th>college</th>\n",
       "      <th>Player</th>\n",
       "    </tr>\n",
       "  </thead>\n",
       "  <tbody>\n",
       "    <tr>\n",
       "      <th>0</th>\n",
       "      <td>University of Kentucky</td>\n",
       "      <td>84</td>\n",
       "    </tr>\n",
       "    <tr>\n",
       "      <th>1</th>\n",
       "      <td>University of California, Los Angeles</td>\n",
       "      <td>84</td>\n",
       "    </tr>\n",
       "    <tr>\n",
       "      <th>2</th>\n",
       "      <td>University of North Carolina</td>\n",
       "      <td>65</td>\n",
       "    </tr>\n",
       "    <tr>\n",
       "      <th>3</th>\n",
       "      <td>University of Kansas</td>\n",
       "      <td>58</td>\n",
       "    </tr>\n",
       "    <tr>\n",
       "      <th>4</th>\n",
       "      <td>Duke University</td>\n",
       "      <td>54</td>\n",
       "    </tr>\n",
       "    <tr>\n",
       "      <th>5</th>\n",
       "      <td>University of Notre Dame</td>\n",
       "      <td>43</td>\n",
       "    </tr>\n",
       "    <tr>\n",
       "      <th>6</th>\n",
       "      <td>St. John's University</td>\n",
       "      <td>43</td>\n",
       "    </tr>\n",
       "    <tr>\n",
       "      <th>7</th>\n",
       "      <td>Michigan State University</td>\n",
       "      <td>43</td>\n",
       "    </tr>\n",
       "    <tr>\n",
       "      <th>8</th>\n",
       "      <td>Syracuse University</td>\n",
       "      <td>43</td>\n",
       "    </tr>\n",
       "    <tr>\n",
       "      <th>9</th>\n",
       "      <td>Indiana University</td>\n",
       "      <td>42</td>\n",
       "    </tr>\n",
       "  </tbody>\n",
       "</table>\n",
       "</div>"
      ],
      "text/plain": [
       "                                 college  Player\n",
       "0                 University of Kentucky      84\n",
       "1  University of California, Los Angeles      84\n",
       "2           University of North Carolina      65\n",
       "3                   University of Kansas      58\n",
       "4                        Duke University      54\n",
       "5               University of Notre Dame      43\n",
       "6                  St. John's University      43\n",
       "7              Michigan State University      43\n",
       "8                    Syracuse University      43\n",
       "9                     Indiana University      42"
      ]
     },
     "execution_count": 8,
     "metadata": {},
     "output_type": "execute_result"
    }
   ],
   "source": [
    "data=df_iris.groupby(['college'])[['Player']].count().sort_values(by='Player', ascending = False)\n",
    "data=data.reset_index()\n",
    "data =data.head(10) \n",
    "data"
   ]
  },
  {
   "cell_type": "code",
   "execution_count": 9,
   "id": "93b4c8dd",
   "metadata": {},
   "outputs": [
    {
     "data": {
      "text/plain": [
       "Text(0.5, 1.0, \"Top 10 College with the most NBA's players\")"
      ]
     },
     "execution_count": 9,
     "metadata": {},
     "output_type": "execute_result"
    },
    {
     "data": {
      "image/png": "[encoded data removed]",
      "text/plain": [
       "<Figure size 640x480 with 1 Axes>"
      ]
     },
     "metadata": {},
     "output_type": "display_data"
    }
   ],
   "source": [
    "import seaborn as sns \n",
    "import matplotlib.pyplot as plt \n",
    "\n",
    "plt.barh(y = data['college'], width = data['Player']) \n",
    "plt.xlabel('Number of players') \n",
    "plt.ylabel('College') \n",
    "plt.title(\"Top 10 College with the most NBA's players\")"
   ]
  },
  {
   "cell_type": "code",
   "execution_count": 12,
   "id": "ec8d0ff6",
   "metadata": {},
   "outputs": [
    {
     "data": {
      "text/plain": [
       "Text(0.5, 1.0, 'PLayers height in the NBA')"
      ]
     },
     "execution_count": 12,
     "metadata": {},
     "output_type": "execute_result"
    },
    {
     "data": {
      "image/png": "[encoded data removed]",
      "text/plain": [
       "<Figure size 640x480 with 1 Axes>"
      ]
     },
     "metadata": {},
     "output_type": "display_data"
    }
   ],
   "source": [
    "mean = df_iris['height'].mean() \n",
    "sns.histplot(x=df_iris['height'], bins=20) \n",
    "plt.axvline(mean, color='r')\n",
    "plt.xlabel('Height') \n",
    "plt.ylabel('Number of players') \n",
    "plt.title('PLayers height in the NBA')"
   ]
  },
  {
   "cell_type": "code",
   "execution_count": null,
   "id": "6ac05ab4",
   "metadata": {},
   "outputs": [],
   "source": []
  },
  {
   "cell_type": "code",
   "execution_count": null,
   "id": "45c3477f",
   "metadata": {},
   "outputs": [],
   "source": []
  },
  {
   "cell_type": "code",
   "execution_count": null,
   "id": "8d908bed",
   "metadata": {},
   "outputs": [],
   "source": []
  },
  {
   "cell_type": "code",
   "execution_count": null,
   "id": "5e1e6e25",
   "metadata": {},
   "outputs": [],
   "source": []
  }
 ],
 "metadata": {
  "kernelspec": {
   "display_name": "Python 3 (ipykernel)",
   "language": "python",
   "name": "python3"
  },
  "language_info": {
   "codemirror_mode": {
    "name": "ipython",
    "version": 3
   },
   "file_extension": ".py",
   "mimetype": "text/x-python",
   "name": "python",
   "nbconvert_exporter": "python",
   "pygments_lexer": "ipython3",
   "version": "3.11.4"
  }
 },
 "nbformat": 4,
 "nbformat_minor": 5
}
